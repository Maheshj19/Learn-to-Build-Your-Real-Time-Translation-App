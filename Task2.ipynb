{
 "cells": [
  {
   "cell_type": "code",
   "execution_count": 15,
   "id": "ebad8f0e-b24f-455f-9969-5c4ed830b9a6",
   "metadata": {},
   "outputs": [],
   "source": [
    "import pytesseract\n",
    "from PIL import Image\n",
    "from tkinter import filedialog, Tk, Button, Label, Text, END\n",
    "from googletrans import Translator"
   ]
  },
  {
   "cell_type": "code",
   "execution_count": 16,
   "id": "20699bad-707c-4616-bf7d-1f79c6ca1bbe",
   "metadata": {},
   "outputs": [],
   "source": [
    "translator = Translator()"
   ]
  },
  {
   "cell_type": "code",
   "execution_count": 17,
   "id": "48f8542d-a985-475a-8663-db60a2d16671",
   "metadata": {},
   "outputs": [],
   "source": [
    "def extract_text(image_path):\n",
    "    try:\n",
    "        img = Image.open(image_path)\n",
    "        text = pytesseract.image_to_string(img)\n",
    "        return text\n",
    "    except Exception as e:\n",
    "        return str(e)"
   ]
  },
  {
   "cell_type": "code",
   "execution_count": 18,
   "id": "71f0bfea-3050-4f95-83ef-34ebbbb96bfb",
   "metadata": {},
   "outputs": [],
   "source": [
    "def translate_text(text, dest_language='hi'):\n",
    "    try:\n",
    "        translated = translator.translate(text, dest=dest_language)\n",
    "        return translated.text\n",
    "    except Exception as e:\n",
    "        return str(e)"
   ]
  },
  {
   "cell_type": "code",
   "execution_count": 19,
   "id": "f548e330-e2b9-4bcb-8a79-40a88f523614",
   "metadata": {},
   "outputs": [],
   "source": [
    "def upload_file():\n",
    "    file_path = filedialog.askopenfilename()\n",
    "    if file_path:\n",
    "        extracted_text = extract_text(file_path)\n",
    "        translated_text = translate_text(extracted_text)\n",
    "        display_output(extracted_text, translated_text)"
   ]
  },
  {
   "cell_type": "code",
   "execution_count": 20,
   "id": "5a4029c4-9bf3-4969-a508-a7fb2e9027da",
   "metadata": {},
   "outputs": [],
   "source": [
    "def display_output(extracted, translated):\n",
    "    extracted_text_box.delete(1.0, END)\n",
    "    translated_text_box.delete(1.0, END)\n",
    "    extracted_text_box.insert(END, extracted)\n",
    "    translated_text_box.insert(END, translated)\n"
   ]
  },
  {
   "cell_type": "code",
   "execution_count": 21,
   "id": "1d774e3a-b459-4a52-a38a-1be0be82b8c4",
   "metadata": {},
   "outputs": [
    {
     "data": {
      "text/plain": [
       "''"
      ]
     },
     "execution_count": 21,
     "metadata": {},
     "output_type": "execute_result"
    }
   ],
   "source": [
    "root = Tk()\n",
    "root.title(\"Image to Text Translation\")"
   ]
  },
  {
   "cell_type": "code",
   "execution_count": 22,
   "id": "84e3eade-5e6b-4ab1-b2c8-a567ce566bb9",
   "metadata": {},
   "outputs": [],
   "source": [
    "upload_button = Button(root, text=\"Upload Image\", command=upload_file)\n",
    "upload_button.pack()"
   ]
  },
  {
   "cell_type": "code",
   "execution_count": 23,
   "id": "3bd62b0f-2218-4056-825b-62dcbb67a250",
   "metadata": {},
   "outputs": [],
   "source": [
    "extracted_label = Label(root, text=\"Extracted Text\")\n",
    "extracted_label.pack()"
   ]
  },
  {
   "cell_type": "code",
   "execution_count": 24,
   "id": "33abd388-9579-489b-a063-a22a4de93db2",
   "metadata": {},
   "outputs": [],
   "source": [
    "extracted_text_box = Text(root, height=10, width=50)\n",
    "extracted_text_box.pack()"
   ]
  },
  {
   "cell_type": "code",
   "execution_count": 25,
   "id": "29b13d4f-66fc-4faa-84f9-e371db1d84dc",
   "metadata": {},
   "outputs": [],
   "source": [
    "translated_label = Label(root, text=\"Translated Text\")\n",
    "translated_label.pack()"
   ]
  },
  {
   "cell_type": "code",
   "execution_count": 26,
   "id": "ee3ccdb2-5b5c-4833-879c-40d0d78f1bff",
   "metadata": {},
   "outputs": [],
   "source": [
    "translated_text_box = Text(root, height=10, width=50)\n",
    "translated_text_box.pack()"
   ]
  },
  {
   "cell_type": "code",
   "execution_count": 27,
   "id": "d7a4b949-eb79-4400-9930-523e4e46a692",
   "metadata": {},
   "outputs": [],
   "source": [
    "root.mainloop()"
   ]
  },
  {
   "cell_type": "code",
   "execution_count": null,
   "id": "7c8dc69c-8aa1-4290-8782-107fb1415774",
   "metadata": {},
   "outputs": [],
   "source": []
  }
 ],
 "metadata": {
  "kernelspec": {
   "display_name": "Python 3 (ipykernel)",
   "language": "python",
   "name": "python3"
  },
  "language_info": {
   "codemirror_mode": {
    "name": "ipython",
    "version": 3
   },
   "file_extension": ".py",
   "mimetype": "text/x-python",
   "name": "python",
   "nbconvert_exporter": "python",
   "pygments_lexer": "ipython3",
   "version": "3.12.4"
  }
 },
 "nbformat": 4,
 "nbformat_minor": 5
}
