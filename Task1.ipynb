{
 "cells": [
  {
   "cell_type": "code",
   "execution_count": 4,
   "id": "2f067b5b-c099-4895-bd0f-720c41b63431",
   "metadata": {},
   "outputs": [
    {
     "name": "stderr",
     "output_type": "stream",
     "text": [
      "[nltk_data] Downloading package punkt to\n",
      "[nltk_data]     C:\\Users\\Lucy1\\AppData\\Roaming\\nltk_data...\n",
      "[nltk_data]   Package punkt is already up-to-date!\n"
     ]
    }
   ],
   "source": [
    "import pandas as pd\n",
    "import nltk\n",
    "nltk.download('punkt')\n",
    "import numpy as np\n",
    "import string\n",
    "from tensorflow.keras.preprocessing.text import Tokenizer\n",
    "from tensorflow.keras.preprocessing.sequence import pad_sequencesqUF`q"
   ]
  },
  {
   "cell_type": "code",
   "execution_count": 6,
   "id": "9d61ce5f-f706-4fc2-94fb-457e34ab5613",
   "metadata": {},
   "outputs": [],
   "source": [
    "def load_data(path):\n",
    "    input_file = path\n",
    "    with open(input_file, \"r\") as f:\n",
    "        data = f.read()\n",
    "    return data.split('\\n')\n",
    "\n",
    "english_sentences = load_data(r'C:/Nullclass/data/english.txt')\n",
    "french_sentences = load_data(r'C:/Nullclass/data/french.txt')"
   ]
  },
  {
   "cell_type": "code",
   "execution_count": 7,
   "id": "2031a129-d1b2-438b-86b6-18eab393b0dc",
   "metadata": {},
   "outputs": [],
   "source": [
    "source_texts = english_sentences\n",
    "target_texts = french_sentences"
   ]
  },
  {
   "cell_type": "code",
   "execution_count": 8,
   "id": "68c2f49b-67cf-4752-91df-e91188e07e65",
   "metadata": {},
   "outputs": [],
   "source": [
    "def clean_text(text):\n",
    "    if isinstance(text, float) or isinstance(text, int):\n",
    "        return ''\n",
    "    translator = str.maketrans('', '', string.punctuation)\n",
    "    return text.translate(translator).lower()"
   ]
  },
  {
   "cell_type": "code",
   "execution_count": 9,
   "id": "b0592ab0-ab24-492a-a77b-055c622c7d22",
   "metadata": {},
   "outputs": [],
   "source": [
    "def tokenize(x):\n",
    "    tokenizer = Tokenizer()\n",
    "    tokenizer.fit_on_texts(x)\n",
    "    sequences = tokenizer.texts_to_sequences(x)\n",
    "    return sequences, tokenizer"
   ]
  },
  {
   "cell_type": "code",
   "execution_count": 10,
   "id": "ee30ce8b-ba35-46a5-be96-92f6b862012a",
   "metadata": {},
   "outputs": [],
   "source": [
    "def pad(x, length=None):\n",
    "    if length is None:\n",
    "        length = max([len(sentence) for sentence in x])\n",
    "    return pad_sequences(x, maxlen=length, padding='post')"
   ]
  },
  {
   "cell_type": "code",
   "execution_count": 11,
   "id": "82c33cf3-9b53-41b4-9bd3-95ef81838bd0",
   "metadata": {},
   "outputs": [],
   "source": [
    "def preprocess(x,y):\n",
    "    x=[clean_text(str(text)) for text in x]\n",
    "    y=[clean_text(str(text)) for text in y]\n",
    "    preprocess_x, x_tk=tokenize(x)\n",
    "    preprocess_y, y_tk=tokenize(y)\n",
    "    preprocess_x=pad(preprocess_x)\n",
    "    preprocess_y=pad(preprocess_y)\n",
    "    preprocess_y = preprocess_y.reshape(*preprocess_y.shape, 1)\n",
    "\n",
    "    return preprocess_x, preprocess_y, x_tk, y_tk\n",
    "\n",
    "preproc_english_sentences, preproc_french_sentences, english_tokenizer, french_tokenizer = preprocess(source_texts,target_texts)"
   ]
  },
  {
   "cell_type": "code",
   "execution_count": 12,
   "id": "dfd0f5f0-030e-4e1c-a2f4-db5a7063ef4c",
   "metadata": {},
   "outputs": [
    {
     "name": "stdout",
     "output_type": "stream",
     "text": [
      "Data Preprocessed\n",
      "Max English sentence length: 15\n",
      "Max French sentence length: 21\n",
      "English vocabulary size: 199\n",
      "French vocabulary size: 345\n"
     ]
    }
   ],
   "source": [
    "max_english_sequence_length = preproc_english_sentences.shape[1]\n",
    "max_french_sequence_length = preproc_french_sentences.shape[1]\n",
    "english_vocab_size = len(english_tokenizer.word_index)\n",
    "french_vocab_size = len(french_tokenizer.word_index)\n",
    "\n",
    "print('Data Preprocessed')\n",
    "print(\"Max English sentence length:\", max_english_sequence_length)\n",
    "print(\"Max French sentence length:\", max_french_sequence_length)\n",
    "print(\"English vocabulary size:\", english_vocab_size)\n",
    "print(\"French vocabulary size:\", french_vocab_size)"
   ]
  },
  {
   "cell_type": "code",
   "execution_count": 13,
   "id": "de9d95d4-87bc-4401-8b49-84a4711e3981",
   "metadata": {},
   "outputs": [
    {
     "name": "stderr",
     "output_type": "stream",
     "text": [
      "C:\\Users\\Lucy1\\anaconda3\\Lib\\site-packages\\keras\\src\\layers\\core\\embedding.py:90: UserWarning: Argument `input_length` is deprecated. Just remove it.\n",
      "  warnings.warn(\n",
      "C:\\Users\\Lucy1\\anaconda3\\Lib\\site-packages\\keras\\src\\layers\\core\\embedding.py:93: UserWarning: Do not pass an `input_shape`/`input_dim` argument to a layer. When using Sequential models, prefer using an `Input(shape)` object as the first layer in the model instead.\n",
      "  super().__init__(**kwargs)\n"
     ]
    },
    {
     "data": {
      "text/html": [
       "<pre style=\"white-space:pre;overflow-x:auto;line-height:normal;font-family:Menlo,'DejaVu Sans Mono',consolas,'Courier New',monospace\"><span style=\"font-weight: bold\">Model: \"sequential\"</span>\n",
       "</pre>\n"
      ],
      "text/plain": [
       "\u001b[1mModel: \"sequential\"\u001b[0m\n"
      ]
     },
     "metadata": {},
     "output_type": "display_data"
    },
    {
     "data": {
      "text/html": [
       "<pre style=\"white-space:pre;overflow-x:auto;line-height:normal;font-family:Menlo,'DejaVu Sans Mono',consolas,'Courier New',monospace\">┏━━━━━━━━━━━━━━━━━━━━━━━━━━━━━━━━━━━━━━┳━━━━━━━━━━━━━━━━━━━━━━━━━━━━━┳━━━━━━━━━━━━━━━━━┓\n",
       "┃<span style=\"font-weight: bold\"> Layer (type)                         </span>┃<span style=\"font-weight: bold\"> Output Shape                </span>┃<span style=\"font-weight: bold\">         Param # </span>┃\n",
       "┡━━━━━━━━━━━━━━━━━━━━━━━━━━━━━━━━━━━━━━╇━━━━━━━━━━━━━━━━━━━━━━━━━━━━━╇━━━━━━━━━━━━━━━━━┩\n",
       "│ embedding (<span style=\"color: #0087ff; text-decoration-color: #0087ff\">Embedding</span>)                │ (<span style=\"color: #00d7ff; text-decoration-color: #00d7ff\">None</span>, <span style=\"color: #00af00; text-decoration-color: #00af00\">21</span>, <span style=\"color: #00af00; text-decoration-color: #00af00\">256</span>)             │          <span style=\"color: #00af00; text-decoration-color: #00af00\">51,200</span> │\n",
       "├──────────────────────────────────────┼─────────────────────────────┼─────────────────┤\n",
       "│ bidirectional (<span style=\"color: #0087ff; text-decoration-color: #0087ff\">Bidirectional</span>)        │ (<span style=\"color: #00d7ff; text-decoration-color: #00d7ff\">None</span>, <span style=\"color: #00af00; text-decoration-color: #00af00\">21</span>, <span style=\"color: #00af00; text-decoration-color: #00af00\">512</span>)             │       <span style=\"color: #00af00; text-decoration-color: #00af00\">1,050,624</span> │\n",
       "├──────────────────────────────────────┼─────────────────────────────┼─────────────────┤\n",
       "│ time_distributed (<span style=\"color: #0087ff; text-decoration-color: #0087ff\">TimeDistributed</span>)   │ (<span style=\"color: #00d7ff; text-decoration-color: #00d7ff\">None</span>, <span style=\"color: #00af00; text-decoration-color: #00af00\">21</span>, <span style=\"color: #00af00; text-decoration-color: #00af00\">1024</span>)            │         <span style=\"color: #00af00; text-decoration-color: #00af00\">525,312</span> │\n",
       "├──────────────────────────────────────┼─────────────────────────────┼─────────────────┤\n",
       "│ dropout (<span style=\"color: #0087ff; text-decoration-color: #0087ff\">Dropout</span>)                    │ (<span style=\"color: #00d7ff; text-decoration-color: #00d7ff\">None</span>, <span style=\"color: #00af00; text-decoration-color: #00af00\">21</span>, <span style=\"color: #00af00; text-decoration-color: #00af00\">1024</span>)            │               <span style=\"color: #00af00; text-decoration-color: #00af00\">0</span> │\n",
       "├──────────────────────────────────────┼─────────────────────────────┼─────────────────┤\n",
       "│ time_distributed_1 (<span style=\"color: #0087ff; text-decoration-color: #0087ff\">TimeDistributed</span>) │ (<span style=\"color: #00d7ff; text-decoration-color: #00d7ff\">None</span>, <span style=\"color: #00af00; text-decoration-color: #00af00\">21</span>, <span style=\"color: #00af00; text-decoration-color: #00af00\">346</span>)             │         <span style=\"color: #00af00; text-decoration-color: #00af00\">354,650</span> │\n",
       "└──────────────────────────────────────┴─────────────────────────────┴─────────────────┘\n",
       "</pre>\n"
      ],
      "text/plain": [
       "┏━━━━━━━━━━━━━━━━━━━━━━━━━━━━━━━━━━━━━━┳━━━━━━━━━━━━━━━━━━━━━━━━━━━━━┳━━━━━━━━━━━━━━━━━┓\n",
       "┃\u001b[1m \u001b[0m\u001b[1mLayer (type)                        \u001b[0m\u001b[1m \u001b[0m┃\u001b[1m \u001b[0m\u001b[1mOutput Shape               \u001b[0m\u001b[1m \u001b[0m┃\u001b[1m \u001b[0m\u001b[1m        Param #\u001b[0m\u001b[1m \u001b[0m┃\n",
       "┡━━━━━━━━━━━━━━━━━━━━━━━━━━━━━━━━━━━━━━╇━━━━━━━━━━━━━━━━━━━━━━━━━━━━━╇━━━━━━━━━━━━━━━━━┩\n",
       "│ embedding (\u001b[38;5;33mEmbedding\u001b[0m)                │ (\u001b[38;5;45mNone\u001b[0m, \u001b[38;5;34m21\u001b[0m, \u001b[38;5;34m256\u001b[0m)             │          \u001b[38;5;34m51,200\u001b[0m │\n",
       "├──────────────────────────────────────┼─────────────────────────────┼─────────────────┤\n",
       "│ bidirectional (\u001b[38;5;33mBidirectional\u001b[0m)        │ (\u001b[38;5;45mNone\u001b[0m, \u001b[38;5;34m21\u001b[0m, \u001b[38;5;34m512\u001b[0m)             │       \u001b[38;5;34m1,050,624\u001b[0m │\n",
       "├──────────────────────────────────────┼─────────────────────────────┼─────────────────┤\n",
       "│ time_distributed (\u001b[38;5;33mTimeDistributed\u001b[0m)   │ (\u001b[38;5;45mNone\u001b[0m, \u001b[38;5;34m21\u001b[0m, \u001b[38;5;34m1024\u001b[0m)            │         \u001b[38;5;34m525,312\u001b[0m │\n",
       "├──────────────────────────────────────┼─────────────────────────────┼─────────────────┤\n",
       "│ dropout (\u001b[38;5;33mDropout\u001b[0m)                    │ (\u001b[38;5;45mNone\u001b[0m, \u001b[38;5;34m21\u001b[0m, \u001b[38;5;34m1024\u001b[0m)            │               \u001b[38;5;34m0\u001b[0m │\n",
       "├──────────────────────────────────────┼─────────────────────────────┼─────────────────┤\n",
       "│ time_distributed_1 (\u001b[38;5;33mTimeDistributed\u001b[0m) │ (\u001b[38;5;45mNone\u001b[0m, \u001b[38;5;34m21\u001b[0m, \u001b[38;5;34m346\u001b[0m)             │         \u001b[38;5;34m354,650\u001b[0m │\n",
       "└──────────────────────────────────────┴─────────────────────────────┴─────────────────┘\n"
      ]
     },
     "metadata": {},
     "output_type": "display_data"
    },
    {
     "data": {
      "text/html": [
       "<pre style=\"white-space:pre;overflow-x:auto;line-height:normal;font-family:Menlo,'DejaVu Sans Mono',consolas,'Courier New',monospace\"><span style=\"font-weight: bold\"> Total params: </span><span style=\"color: #00af00; text-decoration-color: #00af00\">1,981,786</span> (7.56 MB)\n",
       "</pre>\n"
      ],
      "text/plain": [
       "\u001b[1m Total params: \u001b[0m\u001b[38;5;34m1,981,786\u001b[0m (7.56 MB)\n"
      ]
     },
     "metadata": {},
     "output_type": "display_data"
    },
    {
     "data": {
      "text/html": [
       "<pre style=\"white-space:pre;overflow-x:auto;line-height:normal;font-family:Menlo,'DejaVu Sans Mono',consolas,'Courier New',monospace\"><span style=\"font-weight: bold\"> Trainable params: </span><span style=\"color: #00af00; text-decoration-color: #00af00\">1,981,786</span> (7.56 MB)\n",
       "</pre>\n"
      ],
      "text/plain": [
       "\u001b[1m Trainable params: \u001b[0m\u001b[38;5;34m1,981,786\u001b[0m (7.56 MB)\n"
      ]
     },
     "metadata": {},
     "output_type": "display_data"
    },
    {
     "data": {
      "text/html": [
       "<pre style=\"white-space:pre;overflow-x:auto;line-height:normal;font-family:Menlo,'DejaVu Sans Mono',consolas,'Courier New',monospace\"><span style=\"font-weight: bold\"> Non-trainable params: </span><span style=\"color: #00af00; text-decoration-color: #00af00\">0</span> (0.00 B)\n",
       "</pre>\n"
      ],
      "text/plain": [
       "\u001b[1m Non-trainable params: \u001b[0m\u001b[38;5;34m0\u001b[0m (0.00 B)\n"
      ]
     },
     "metadata": {},
     "output_type": "display_data"
    },
    {
     "name": "stdout",
     "output_type": "stream",
     "text": [
      "None\n",
      "Epoch 1/10\n",
      "\u001b[1m108/108\u001b[0m \u001b[32m━━━━━━━━━━━━━━━━━━━━\u001b[0m\u001b[37m\u001b[0m \u001b[1m351s\u001b[0m 3s/step - accuracy: 0.5590 - loss: 2.1580 - val_accuracy: 0.8753 - val_loss: 0.4091\n",
      "Epoch 2/10\n",
      "\u001b[1m108/108\u001b[0m \u001b[32m━━━━━━━━━━━━━━━━━━━━\u001b[0m\u001b[37m\u001b[0m \u001b[1m380s\u001b[0m 3s/step - accuracy: 0.8829 - loss: 0.3756 - val_accuracy: 0.9351 - val_loss: 0.1986\n",
      "Epoch 3/10\n",
      "\u001b[1m108/108\u001b[0m \u001b[32m━━━━━━━━━━━━━━━━━━━━\u001b[0m\u001b[37m\u001b[0m \u001b[1m360s\u001b[0m 3s/step - accuracy: 0.9350 - loss: 0.2025 - val_accuracy: 0.9569 - val_loss: 0.1371\n",
      "Epoch 4/10\n",
      "\u001b[1m108/108\u001b[0m \u001b[32m━━━━━━━━━━━━━━━━━━━━\u001b[0m\u001b[37m\u001b[0m \u001b[1m374s\u001b[0m 3s/step - accuracy: 0.9558 - loss: 0.1394 - val_accuracy: 0.9668 - val_loss: 0.1070\n",
      "Epoch 5/10\n",
      "\u001b[1m108/108\u001b[0m \u001b[32m━━━━━━━━━━━━━━━━━━━━\u001b[0m\u001b[37m\u001b[0m \u001b[1m385s\u001b[0m 4s/step - accuracy: 0.9665 - loss: 0.1055 - val_accuracy: 0.9718 - val_loss: 0.0905\n",
      "Epoch 6/10\n",
      "\u001b[1m108/108\u001b[0m \u001b[32m━━━━━━━━━━━━━━━━━━━━\u001b[0m\u001b[37m\u001b[0m \u001b[1m356s\u001b[0m 3s/step - accuracy: 0.9720 - loss: 0.0875 - val_accuracy: 0.9763 - val_loss: 0.0774\n",
      "Epoch 7/10\n",
      "\u001b[1m108/108\u001b[0m \u001b[32m━━━━━━━━━━━━━━━━━━━━\u001b[0m\u001b[37m\u001b[0m \u001b[1m373s\u001b[0m 3s/step - accuracy: 0.9764 - loss: 0.0744 - val_accuracy: 0.9785 - val_loss: 0.0715\n",
      "Epoch 8/10\n",
      "\u001b[1m108/108\u001b[0m \u001b[32m━━━━━━━━━━━━━━━━━━━━\u001b[0m\u001b[37m\u001b[0m \u001b[1m458s\u001b[0m 4s/step - accuracy: 0.9790 - loss: 0.0662 - val_accuracy: 0.9797 - val_loss: 0.0659\n",
      "Epoch 9/10\n",
      "\u001b[1m108/108\u001b[0m \u001b[32m━━━━━━━━━━━━━━━━━━━━\u001b[0m\u001b[37m\u001b[0m \u001b[1m532s\u001b[0m 5s/step - accuracy: 0.9821 - loss: 0.0564 - val_accuracy: 0.9820 - val_loss: 0.0614\n",
      "Epoch 10/10\n",
      "\u001b[1m108/108\u001b[0m \u001b[32m━━━━━━━━━━━━━━━━━━━━\u001b[0m\u001b[37m\u001b[0m \u001b[1m520s\u001b[0m 5s/step - accuracy: 0.9831 - loss: 0.0527 - val_accuracy: 0.9822 - val_loss: 0.0622\n"
     ]
    },
    {
     "data": {
      "text/plain": [
       "<keras.src.callbacks.history.History at 0x1dd9aad8d70>"
      ]
     },
     "execution_count": 13,
     "metadata": {},
     "output_type": "execute_result"
    }
   ],
   "source": [
    "from tensorflow.keras.models import Model,Sequential\n",
    "from tensorflow.keras.layers import Input, LSTM, Embedding, Dense, Bidirectional,TimeDistributed,Dropout,GRU\n",
    "from tensorflow.keras.optimizers import Adam\n",
    "from tensorflow.keras.losses import sparse_categorical_crossentropy\n",
    "\n",
    "\n",
    "def bidirectional_embed_model(input_shape, output_sequence_length, english_vocab_size, french_vocab_size):\n",
    "\n",
    "    model = Sequential()\n",
    "    model.add(Embedding(english_vocab_size+1, 256, input_length=input_shape[1], input_shape=input_shape[1:]))\n",
    "    model.add(Bidirectional(LSTM(256, return_sequences=True)))\n",
    "    model.add(TimeDistributed(Dense(1024, activation='relu')))\n",
    "    model.add(Dropout(0.5))\n",
    "    model.add(TimeDistributed(Dense(french_vocab_size+1, activation='softmax')))\n",
    "\n",
    "    model.compile(loss = sparse_categorical_crossentropy,\n",
    "                  optimizer = Adam(0.005),\n",
    "                  metrics = ['accuracy'])\n",
    "\n",
    "    return model\n",
    "\n",
    "tmp_x = pad(preproc_english_sentences, max_french_sequence_length)\n",
    "tmp_x = tmp_x.reshape((-1, preproc_french_sentences.shape[-2]))\n",
    "\n",
    "embed_rnn_model = bidirectional_embed_model(\n",
    "    tmp_x.shape,\n",
    "    max_french_sequence_length,\n",
    "    english_vocab_size,\n",
    "    french_vocab_size)\n",
    "\n",
    "print(embed_rnn_model.summary())\n",
    "\n",
    "embed_rnn_model.fit(tmp_x, preproc_french_sentences, batch_size=1024, epochs=10, validation_split=0.2)\n",
    "\n"
   ]
  },
  {
   "cell_type": "code",
   "execution_count": 16,
   "id": "95e6d628-8876-4828-8786-23c1fb17fe42",
   "metadata": {},
   "outputs": [],
   "source": [
    "def logits_to_text(logits, tokenizer):\n",
    "    index_to_words = {id: word for word, id in tokenizer.word_index.items()}\n",
    "    index_to_words[0] = '<PAD>'\n",
    "\n",
    "    return ' '.join([index_to_words[prediction] for prediction in np.argmax(logits, 1)])"
   ]
  },
  {
   "cell_type": "code",
   "execution_count": 17,
   "id": "8c70b8fb-be8d-4c15-9eeb-b957d7f0a539",
   "metadata": {},
   "outputs": [
    {
     "name": "stdout",
     "output_type": "stream",
     "text": [
      "Prediciton:\n",
      "\u001b[1m4/4\u001b[0m \u001b[32m━━━━━━━━━━━━━━━━━━━━\u001b[0m\u001b[37m\u001b[0m \u001b[1m4s\u001b[0m 655ms/step\n",
      "new jersey est parfois calme pendant l automne et il est neigeux en avril <PAD> <PAD> <PAD> <PAD> <PAD> <PAD> <PAD>\n",
      "\n",
      "Correct Translation:\n",
      "[\"new jersey est parfois calme pendant l' automne , et il est neigeux en avril .\"]\n",
      "\n",
      "Original text:\n",
      "['new jersey is sometimes quiet during autumn , and it is snowy in april .']\n"
     ]
    }
   ],
   "source": [
    "print(\"Prediciton:\")\n",
    "print(logits_to_text(embed_rnn_model.predict(tmp_x[:100])[0], french_tokenizer))\n",
    "\n",
    "print(\"\\nCorrect Translation:\")\n",
    "print(french_sentences[:1])\n",
    "\n",
    "print('\\nOriginal text:')\n",
    "print(english_sentences[:1])"
   ]
  },
  {
   "cell_type": "code",
   "execution_count": 18,
   "id": "102d8ae2-f771-42b0-b319-fb8450d803ec",
   "metadata": {},
   "outputs": [],
   "source": [
    "embed_rnn_model.save('pretrained.keras')"
   ]
  },
  {
   "cell_type": "code",
   "execution_count": 19,
   "id": "50fd8b5d-6902-4063-bb26-aec75c52e4a0",
   "metadata": {},
   "outputs": [
    {
     "name": "stdout",
     "output_type": "stream",
     "text": [
      "[array([[-0.00239147, -1.3862165 , -1.3040106 , ..., -0.50113237,\n",
      "         0.02495333,  0.43675843],\n",
      "       [ 0.15047267,  0.83134097, -0.1424689 , ..., -0.3543408 ,\n",
      "        -0.63300884,  0.92535436],\n",
      "       [ 0.1943003 ,  0.01013347, -0.0825605 , ...,  0.2122727 ,\n",
      "         0.3016726 , -0.03523199],\n",
      "       ...,\n",
      "       [-0.27123454,  0.03688552,  0.17212953, ..., -0.2787341 ,\n",
      "         0.6279647 ,  0.19578253],\n",
      "       [-0.3075216 , -0.1625571 ,  0.06124796, ...,  0.10617936,\n",
      "        -0.5926467 , -0.3868385 ],\n",
      "       [-0.3873246 , -0.1927234 ,  0.12885958, ..., -0.37342831,\n",
      "         0.0906743 , -0.3844197 ]], dtype=float32), array([[-0.02966088,  0.04311202, -0.08463567, ..., -0.00557168,\n",
      "        -0.07933155, -0.1349866 ],\n",
      "       [-0.06033138, -0.05540761,  0.01857993, ..., -0.00634943,\n",
      "         0.03396818, -0.05120571],\n",
      "       [ 0.07637933, -0.12657245,  0.05776694, ..., -0.04717188,\n",
      "        -0.06075583,  0.03857426],\n",
      "       ...,\n",
      "       [-0.01963929, -0.0989877 ,  0.00030773, ...,  0.09687892,\n",
      "         0.12922433, -0.04977598],\n",
      "       [ 0.12018228,  0.24408422, -0.16302046, ..., -0.09182031,\n",
      "         0.10796041,  0.21244575],\n",
      "       [-0.06164013,  0.10523171,  0.03147689, ...,  0.09202415,\n",
      "         0.18599744, -0.1399747 ]], dtype=float32), array([[ 0.01672302,  0.00704216, -0.04991444, ..., -0.06562224,\n",
      "         0.28343442, -0.0783525 ],\n",
      "       [ 0.07632215,  0.3513922 ,  0.15822099, ...,  0.06666813,\n",
      "         0.03110013, -0.06257236],\n",
      "       [-0.35442287, -0.2769827 , -0.18092415, ...,  0.18622968,\n",
      "         0.14945336, -0.07663383],\n",
      "       ...,\n",
      "       [ 0.13728133,  0.08940182, -0.1513445 , ...,  0.09325989,\n",
      "        -0.01855531, -0.05416969],\n",
      "       [-0.05506036, -0.3257683 ,  0.16479138, ...,  0.12295859,\n",
      "        -0.12129088, -0.10426505],\n",
      "       [-0.0079433 , -0.2689604 , -0.12435693, ..., -0.06126091,\n",
      "        -0.01100524,  0.09362685]], dtype=float32), array([-0.01925312,  0.19336192,  0.07872318, ..., -0.00410876,\n",
      "        0.02861263, -0.00726478], dtype=float32), array([[-0.11566857, -0.01478098, -0.00740524, ..., -0.09083869,\n",
      "         0.27624193, -0.0012526 ],\n",
      "       [-0.00142764,  0.02003084, -0.01300471, ..., -0.03048221,\n",
      "         0.00267548,  0.07340389],\n",
      "       [-0.03327223,  0.08975635,  0.05177356, ...,  0.09874804,\n",
      "        -0.06637547,  0.0278888 ],\n",
      "       ...,\n",
      "       [ 0.00804994, -0.05455868,  0.02487283, ...,  0.16575962,\n",
      "        -0.08285643, -0.09386025],\n",
      "       [ 0.05837126,  0.02238928, -0.17532678, ..., -0.102276  ,\n",
      "         0.27556527, -0.03449579],\n",
      "       [-0.09527069,  0.03997251, -0.12375104, ..., -0.14649186,\n",
      "         0.13839854, -0.08228398]], dtype=float32), array([[-0.35082898,  0.14465453,  0.03815005, ...,  0.04214597,\n",
      "         0.19668739, -0.05986959],\n",
      "       [-0.09257872, -0.00343947, -0.04166251, ...,  0.00284266,\n",
      "        -0.06982963, -0.01670898],\n",
      "       [ 0.04057454, -0.01213826,  0.0886068 , ..., -0.13704972,\n",
      "         0.00838388,  0.01252299],\n",
      "       ...,\n",
      "       [ 0.02376994, -0.00255573, -0.07050204, ..., -0.1499777 ,\n",
      "        -0.06849206,  0.01751214],\n",
      "       [-0.09255145, -0.09924605,  0.01620718, ...,  0.0399522 ,\n",
      "         0.2765338 ,  0.06806973],\n",
      "       [ 0.17927073,  0.21287437,  0.08984213, ...,  0.00361466,\n",
      "        -0.06761336, -0.00841396]], dtype=float32), array([ 0.0519003 , -0.00210727,  0.05577388, ..., -0.05145729,\n",
      "       -0.03932254, -0.0179383 ], dtype=float32), array([[-0.13132901,  0.01477888,  0.00188003, ..., -0.15802054,\n",
      "        -0.13490543,  0.11128948],\n",
      "       [ 0.08220726, -0.07838235,  0.23393577, ..., -0.05307595,\n",
      "         0.06653132,  0.3326389 ],\n",
      "       [-0.02151196, -0.133413  ,  0.15797016, ...,  0.11862321,\n",
      "         0.083799  , -0.1614325 ],\n",
      "       ...,\n",
      "       [ 0.07939561,  0.04445084, -0.04044519, ...,  0.02123525,\n",
      "         0.04972229, -0.11500849],\n",
      "       [ 0.15731855,  0.04050671, -0.14685482, ..., -0.19505629,\n",
      "         0.1334492 , -0.00482919],\n",
      "       [ 0.09753218, -0.05765262, -0.08541503, ..., -0.0448974 ,\n",
      "        -0.06226537,  0.01624161]], dtype=float32), array([-0.03930505, -0.01626517, -0.03861646, ..., -0.02386877,\n",
      "       -0.01184635, -0.04562741], dtype=float32), array([[-0.04850316,  0.07561365,  0.05436863, ..., -0.04538352,\n",
      "         0.1132829 , -0.05000747],\n",
      "       [ 0.06037032,  0.09458413, -0.05774199, ..., -0.01003036,\n",
      "        -0.07161079,  0.01827591],\n",
      "       [ 0.01371815,  0.07386997, -0.07357492, ...,  0.00388807,\n",
      "        -0.00686956, -0.02618737],\n",
      "       ...,\n",
      "       [ 0.07575984,  0.08842103, -0.1988798 , ..., -0.02663301,\n",
      "        -0.07886484, -0.02587393],\n",
      "       [-0.02284505,  0.06331055,  0.07721667, ..., -0.00051032,\n",
      "        -0.01803067, -0.0999793 ],\n",
      "       [ 0.07709737, -0.01007943,  0.09096341, ..., -0.04089744,\n",
      "        -0.10310703, -0.0217409 ]], dtype=float32), array([ 0.0288734 ,  0.03427327,  0.04231244,  0.03258426,  0.0003206 ,\n",
      "        0.02577433,  0.07275284,  0.0551608 , -0.00854137,  0.01289951,\n",
      "        0.03210135,  0.12965713, -0.04288036,  0.0281303 ,  0.03166744,\n",
      "        0.0417732 ,  0.04157873, -0.01827841, -0.02780289,  0.06604205,\n",
      "        0.07348628, -0.01099794, -0.02001705,  0.01236743,  0.02717757,\n",
      "       -0.00501992,  0.06263439,  0.04033222,  0.0321741 ,  0.03667841,\n",
      "       -0.00133089, -0.00622294, -0.01615239,  0.04208888,  0.06964237,\n",
      "        0.03618309, -0.00631365,  0.04848207,  0.02993088,  0.05400861,\n",
      "       -0.00058127,  0.03877511,  0.04911825, -0.08293727, -0.01444588,\n",
      "        0.04644596,  0.00251417, -0.06051977, -0.01548325, -0.07833516,\n",
      "       -0.02136804,  0.01405409,  0.00073733,  0.0458615 ,  0.02867129,\n",
      "       -0.05260304, -0.05082959,  0.03373333, -0.02038077, -0.07909594,\n",
      "       -0.00701618,  0.12425165,  0.02710373, -0.00305525,  0.00770726,\n",
      "        0.09265098, -0.03304624, -0.04533282, -0.04341296,  0.02073299,\n",
      "       -0.03032255, -0.05591903, -0.05692685, -0.07910828, -0.03529368,\n",
      "       -0.04610648,  0.03565774, -0.03955667, -0.14018668, -0.01369369,\n",
      "       -0.03420936, -0.00971899, -0.02803818, -0.12325193, -0.11319026,\n",
      "        0.03252476, -0.00701199, -0.00662735, -0.02487458, -0.02377517,\n",
      "        0.15097341, -0.06953067, -0.00433101, -0.0678333 , -0.09646641,\n",
      "        0.04550908,  0.18432534, -0.01144604,  0.02091337,  0.05930096,\n",
      "        0.07433468, -0.0795695 , -0.13383868, -0.02471628, -0.09834873,\n",
      "        0.037308  ,  0.03697925,  0.02571155, -0.077594  ,  0.01056038,\n",
      "       -0.04090199, -0.00196713, -0.04033595, -0.03163907, -0.04075176,\n",
      "       -0.01656075, -0.0711972 , -0.00550858, -0.08134916,  0.02336942,\n",
      "       -0.02720546, -0.02613235,  0.03889463, -0.12879762, -0.02216216,\n",
      "       -0.03510541, -0.02891141, -0.0251696 , -0.00771798,  0.02579221,\n",
      "       -0.07213521, -0.00503904, -0.04466826, -0.01769653, -0.01116723,\n",
      "        0.08911885, -0.10994428, -0.08116499, -0.15139513, -0.02957601,\n",
      "        0.01652906,  0.00686268, -0.03940289, -0.01550822, -0.05263735,\n",
      "        0.02184294, -0.04381849, -0.05046255, -0.04865606, -0.00304738,\n",
      "       -0.02564254, -0.01756719, -0.02460847, -0.0163309 , -0.0004469 ,\n",
      "       -0.06958004, -0.03482333,  0.01756316, -0.04015163, -0.02722887,\n",
      "        0.00735891, -0.02658118, -0.01911752, -0.04239641,  0.00981572,\n",
      "       -0.01159516, -0.01075312,  0.05650254, -0.0141523 , -0.03852058,\n",
      "       -0.02924314, -0.01722188, -0.0222034 , -0.03314837,  0.0273009 ,\n",
      "       -0.02807174, -0.0538685 ,  0.00475328,  0.00476806, -0.00898474,\n",
      "       -0.04765489, -0.03112042, -0.03887123, -0.06427137, -0.01791587,\n",
      "       -0.01082042, -0.03157426, -0.01770637, -0.0117398 , -0.06959175,\n",
      "       -0.03313011, -0.00357247, -0.04239159, -0.00770352, -0.0714438 ,\n",
      "       -0.04136594, -0.01625767, -0.02848154, -0.02958065, -0.01514339,\n",
      "        0.00841567, -0.04397122, -0.03470344, -0.0421581 , -0.02621615,\n",
      "       -0.00928507, -0.03387204, -0.02122427, -0.02883356, -0.01733882,\n",
      "       -0.08056457,  0.00614378, -0.03404356, -0.03894838, -0.04231895,\n",
      "       -0.04845079, -0.04524869, -0.04287999, -0.01025138, -0.03929995,\n",
      "       -0.04634596, -0.02947166, -0.04189441, -0.05554952, -0.03880482,\n",
      "       -0.05036442, -0.05741895, -0.04075278, -0.01758483, -0.02390833,\n",
      "       -0.00078641, -0.03023983, -0.02514063, -0.03770572, -0.03094821,\n",
      "       -0.03437921, -0.01695422, -0.03988611, -0.04082894, -0.03615552,\n",
      "       -0.05340697, -0.05236118, -0.06095259, -0.04505527, -0.04587771,\n",
      "       -0.06355144, -0.05680523, -0.01328885, -0.05543259, -0.03973184,\n",
      "       -0.03387162, -0.0434909 , -0.04003343, -0.04285794, -0.04255224,\n",
      "       -0.03416272, -0.03574211, -0.02065909, -0.03327946, -0.04492353,\n",
      "       -0.03585572, -0.04998468, -0.03188803, -0.01686089, -0.03981844,\n",
      "       -0.0552071 , -0.01425078, -0.03766783, -0.05332688, -0.05654161,\n",
      "       -0.04589691, -0.03426428, -0.04032906, -0.04190286, -0.03658997,\n",
      "       -0.02829872, -0.03294922, -0.05041692, -0.03850057, -0.04626818,\n",
      "       -0.05436786, -0.03101376, -0.03253761, -0.04321519, -0.05322874,\n",
      "       -0.05400817, -0.04576478, -0.03390369, -0.04458024, -0.03902467,\n",
      "       -0.0405132 , -0.05448212, -0.04389006, -0.04915184, -0.05020413,\n",
      "       -0.04837267, -0.03517733, -0.05147887, -0.04943383, -0.04461274,\n",
      "       -0.03971064, -0.05037331, -0.05166085, -0.05202198, -0.04839681,\n",
      "       -0.03579953, -0.05289562, -0.05402138, -0.05170328, -0.05503884,\n",
      "       -0.03665114, -0.05230793, -0.04237979, -0.04820028, -0.05402255,\n",
      "       -0.05283348, -0.04653084, -0.03983316, -0.04276279, -0.05268275,\n",
      "       -0.04614935, -0.05325899, -0.05547906, -0.05679173, -0.05427584,\n",
      "       -0.05601639, -0.04526462, -0.05506058, -0.05537515, -0.0512115 ,\n",
      "       -0.05214113, -0.05487174, -0.05527523, -0.05388737, -0.04844631,\n",
      "       -0.05293689, -0.05369151, -0.05610774, -0.04850673, -0.04602121,\n",
      "       -0.04363716, -0.05614004, -0.04932624, -0.0556285 , -0.04501385,\n",
      "       -0.0535419 ], dtype=float32)]\n"
     ]
    }
   ],
   "source": [
    "print(embed_rnn_model.get_weights())"
   ]
  },
  {
   "cell_type": "code",
   "execution_count": null,
   "id": "edb0fe3b-1f7a-4e81-a385-4e4866038fb4",
   "metadata": {},
   "outputs": [],
   "source": []
  }
 ],
 "metadata": {
  "kernelspec": {
   "display_name": "Python 3 (ipykernel)",
   "language": "python",
   "name": "python3"
  },
  "language_info": {
   "codemirror_mode": {
    "name": "ipython",
    "version": 3
   },
   "file_extension": ".py",
   "mimetype": "text/x-python",
   "name": "python",
   "nbconvert_exporter": "python",
   "pygments_lexer": "ipython3",
   "version": "3.12.4"
  }
 },
 "nbformat": 4,
 "nbformat_minor": 5
}
