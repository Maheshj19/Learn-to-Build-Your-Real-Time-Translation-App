{
 "cells": [
  {
   "cell_type": "code",
   "execution_count": 2,
   "id": "be77e6d4-ba06-4768-b0cf-4827e89805aa",
   "metadata": {},
   "outputs": [],
   "source": [
    "from tkinter import Tk, Label, Entry, Button, StringVar, messagebox\n",
    "from googletrans import Translator\n",
    "from datetime import datetime"
   ]
  },
  {
   "cell_type": "code",
   "execution_count": 3,
   "id": "64bb3087-fe16-42be-85b8-f0412b8137ab",
   "metadata": {},
   "outputs": [],
   "source": [
    "translator = Translator()"
   ]
  },
  {
   "cell_type": "code",
   "execution_count": 4,
   "id": "ce96149c-d856-4b0c-b27b-1d7a28a6e53d",
   "metadata": {},
   "outputs": [],
   "source": [
    "def starts_with_vowel(word):\n",
    "    vowels = \"aeiouAEIOU\"\n",
    "    return word[0] in vowels"
   ]
  },
  {
   "cell_type": "code",
   "execution_count": 5,
   "id": "54a8f521-5e27-4ae0-9528-ecaf7bdb2ba4",
   "metadata": {},
   "outputs": [],
   "source": [
    "def is_time_between():\n",
    "    current_time = datetime.now().time()\n",
    "    start_time = datetime.strptime(\"21:00\", \"%H:%M\").time()\n",
    "    end_time = datetime.strptime(\"22:00\", \"%H:%M\").time()\n",
    "    return start_time <= current_time <= end_time"
   ]
  },
  {
   "cell_type": "code",
   "execution_count": 6,
   "id": "45edf2db-84d7-4a1d-ad8a-af081349562b",
   "metadata": {},
   "outputs": [],
   "source": [
    "def translate_word():\n",
    "    word = input_word.get()\n",
    "\n",
    "    if not word:\n",
    "        messagebox.showwarning(\"Input Error\", \"Please enter a word.\")\n",
    "        return\n",
    "\n",
    "    if starts_with_vowel(word):\n",
    "        if is_time_between():\n",
    "            translated = translator.translate(word, src='en', dest='hi')\n",
    "            output_word.set(translated.text)\n",
    "        else:\n",
    "            messagebox.showerror(\"Error\", \"This word starts with a vowel. Please provide another word.\")\n",
    "            output_word.set(\"\")\n",
    "    else:\n",
    "        translated = translator.translate(word, src='en', dest='hi')\n",
    "        output_word.set(translated.text)"
   ]
  },
  {
   "cell_type": "code",
   "execution_count": 7,
   "id": "e3748d3b-5e86-405a-ab0d-a833d0790bca",
   "metadata": {},
   "outputs": [
    {
     "data": {
      "text/plain": [
       "''"
      ]
     },
     "execution_count": 7,
     "metadata": {},
     "output_type": "execute_result"
    }
   ],
   "source": [
    "root = Tk()\n",
    "root.title(\"English to Hindi Translator\")"
   ]
  },
  {
   "cell_type": "code",
   "execution_count": 8,
   "id": "639ded45-4068-4577-8203-f1509dd65e1f",
   "metadata": {},
   "outputs": [],
   "source": [
    "Label(root, text=\"Enter English Word:\").grid(row=0, column=0, padx=10, pady=10)\n",
    "input_word = StringVar()\n",
    "Entry(root, textvariable=input_word).grid(row=0, column=1, padx=10, pady=10)"
   ]
  },
  {
   "cell_type": "code",
   "execution_count": 9,
   "id": "25195944-c452-4008-8e09-d89131bd2785",
   "metadata": {},
   "outputs": [],
   "source": [
    "Label(root, text=\"Translated Hindi Word:\").grid(row=1, column=0, padx=10, pady=10)\n",
    "output_word = StringVar()\n",
    "Entry(root, textvariable=output_word, state='readonly').grid(row=1, column=1, padx=10, pady=10)"
   ]
  },
  {
   "cell_type": "code",
   "execution_count": 11,
   "id": "8b3f715b-f494-41a3-a0d0-c42f659de4a0",
   "metadata": {},
   "outputs": [],
   "source": [
    "Button(root, text=\"Translate\", command=translate_word).grid(row=2, column=0, columnspan=2, pady=10)"
   ]
  },
  {
   "cell_type": "code",
   "execution_count": 12,
   "id": "a01f9b07-3415-4f6b-8ff0-62329ffbea42",
   "metadata": {},
   "outputs": [],
   "source": [
    "root.mainloop()"
   ]
  },
  {
   "cell_type": "code",
   "execution_count": null,
   "id": "aeb5abee-4a43-44f1-a226-604861cd36d0",
   "metadata": {},
   "outputs": [],
   "source": []
  }
 ],
 "metadata": {
  "kernelspec": {
   "display_name": "Python 3 (ipykernel)",
   "language": "python",
   "name": "python3"
  },
  "language_info": {
   "codemirror_mode": {
    "name": "ipython",
    "version": 3
   },
   "file_extension": ".py",
   "mimetype": "text/x-python",
   "name": "python",
   "nbconvert_exporter": "python",
   "pygments_lexer": "ipython3",
   "version": "3.12.4"
  }
 },
 "nbformat": 4,
 "nbformat_minor": 5
}
